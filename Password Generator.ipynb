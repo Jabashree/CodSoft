{
 "cells": [
  {
   "cell_type": "code",
   "execution_count": 2,
   "id": "cc5a67e2",
   "metadata": {},
   "outputs": [],
   "source": [
    "import tkinter as tk\n",
    "import random\n",
    "import string\n",
    "\n",
    "def generate_password():\n",
    "    length_str = length_entry.get()\n",
    "    \n",
    "    try:\n",
    "        password_length = int(length_str)\n",
    "    except ValueError:\n",
    "        password_entry.delete(0, tk.END)\n",
    "        password_entry.insert(0, \"Invalid length\")\n",
    "        return\n",
    "\n",
    "    if password_length <= 0:\n",
    "        password_entry.delete(0, tk.END)\n",
    "        password_entry.insert(0, \"Invalid length\")\n",
    "        return\n",
    "\n",
    "    characters = string.ascii_letters\n",
    "    if include_digits.get():\n",
    "        characters += string.digits\n",
    "    if include_symbols.get():\n",
    "        characters += string.punctuation\n",
    "\n",
    "    password = ''.join(random.choice(characters) for _ in range(password_length))\n",
    "    password_entry.delete(0, tk.END)\n",
    "    password_entry.insert(0, password)\n",
    "\n",
    "# Create the main window\n",
    "root = tk.Tk()\n",
    "root.title(\"Password Generator\")\n",
    "\n",
    "# Create widgets\n",
    "length_label = tk.Label(root, text=\"Password Length:\")\n",
    "length_label.pack()\n",
    "length_entry = tk.Entry(root)\n",
    "length_entry.pack()\n",
    "\n",
    "include_digits = tk.IntVar()\n",
    "include_symbols = tk.IntVar()\n",
    "digits_checkbox = tk.Checkbutton(root, text=\"Include Digits\", variable=include_digits)\n",
    "symbols_checkbox = tk.Checkbutton(root, text=\"Include Symbols\", variable=include_symbols)\n",
    "digits_checkbox.pack()\n",
    "symbols_checkbox.pack()\n",
    "\n",
    "generate_button = tk.Button(root, text=\"Generate Password\", command=generate_password)\n",
    "generate_button.pack()\n",
    "\n",
    "password_entry = tk.Entry(root, show=\"*\") #Show asteriks to hide the password\n",
    "password_entry.pack()\n",
    "\n",
    "# Start the Tkinter main loop\n",
    "root.mainloop()"
   ]
  },
  {
   "cell_type": "code",
   "execution_count": null,
   "id": "066a0288",
   "metadata": {},
   "outputs": [],
   "source": []
  }
 ],
 "metadata": {
  "kernelspec": {
   "display_name": "Python 3 (ipykernel)",
   "language": "python",
   "name": "python3"
  },
  "language_info": {
   "codemirror_mode": {
    "name": "ipython",
    "version": 3
   },
   "file_extension": ".py",
   "mimetype": "text/x-python",
   "name": "python",
   "nbconvert_exporter": "python",
   "pygments_lexer": "ipython3",
   "version": "3.11.5"
  }
 },
 "nbformat": 4,
 "nbformat_minor": 5
}
