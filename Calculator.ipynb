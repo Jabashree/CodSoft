{
 "cells": [
  {
   "cell_type": "code",
   "execution_count": null,
   "id": "685a0f26",
   "metadata": {},
   "outputs": [],
   "source": [
    "import tkinter as tk\n",
    "import math\n",
    "\n",
    "def button_click(event):\n",
    "    current = entry.get()\n",
    "    text = event.widget.cget(\"text\")\n",
    "\n",
    "    if text == \"=\":\n",
    "        try:\n",
    "            result = str(eval(current))\n",
    "            entry.delete(0, tk.END)\n",
    "            entry.insert(tk.END, result)\n",
    "        except Exception as e:\n",
    "            entry.delete(0, tk.END)\n",
    "            entry.insert(tk.END, \"Error\")\n",
    "    elif text == \"C\":\n",
    "        entry.delete(0, tk.END)\n",
    "    elif text == \"√\":\n",
    "        entry.delete(0, tk.END)\n",
    "        entry.insert(tk.END, str(math.sqrt(float(current))))\n",
    "    elif text == \"<-\":\n",
    "        entry.delete(len(current) - 1)\n",
    "    else:\n",
    "        entry.insert(tk.END, text)\n",
    "\n",
    "root = tk.Tk()\n",
    "root.title(\"Calculator\")\n",
    "\n",
    "entry = tk.Entry(root, font=\"Arial 20 bold\", justify=\"right\")\n",
    "entry.pack(fill=tk.X, ipadx=8, padx=10, pady=10, side=tk.TOP)\n",
    "\n",
    "frame = tk.Frame(root)\n",
    "frame.pack()\n",
    "\n",
    "buttons = [\n",
    "    \"C\", \"√\", \"/\", \"<-\",\n",
    "    \"7\", \"8\", \"9\", \"*\",\n",
    "    \"4\", \"5\", \"6\", \"-\",\n",
    "    \"1\", \"2\", \"3\", \"+\",\n",
    "    \"!\", \"0\", \".\", \"=\"\n",
    "]\n",
    "\n",
    "i = 0\n",
    "for button in buttons:\n",
    "    button_frame = tk.Button(frame, text=button, font=\"lucida 15 bold\")\n",
    "    button_frame.grid(row=int(i / 4), column=i % 4)\n",
    "    button_frame.bind(\"<Button-1>\", button_click)\n",
    "    i += 1\n",
    "\n",
    "root.mainloop()"
   ]
  },
  {
   "cell_type": "code",
   "execution_count": null,
   "id": "fd12a594",
   "metadata": {},
   "outputs": [],
   "source": []
  },
  {
   "cell_type": "code",
   "execution_count": null,
   "id": "1a1cc0c5",
   "metadata": {},
   "outputs": [],
   "source": []
  }
 ],
 "metadata": {
  "kernelspec": {
   "display_name": "Python 3 (ipykernel)",
   "language": "python",
   "name": "python3"
  },
  "language_info": {
   "codemirror_mode": {
    "name": "ipython",
    "version": 3
   },
   "file_extension": ".py",
   "mimetype": "text/x-python",
   "name": "python",
   "nbconvert_exporter": "python",
   "pygments_lexer": "ipython3",
   "version": "3.11.5"
  }
 },
 "nbformat": 4,
 "nbformat_minor": 5
}
